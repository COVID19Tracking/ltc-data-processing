{
 "cells": [
  {
   "cell_type": "code",
   "execution_count": 28,
   "metadata": {},
   "outputs": [],
   "source": [
    "import pandas as pd\n",
    "import matplotlib.pyplot as plt\n",
    "import requests\n",
    "import json\n",
    "import numpy as np\n",
    "\n",
    "from datetime import datetime, timedelta\n",
    "import pytz\n",
    "\n",
    "from pathlib import Path\n",
    "from math import isnan\n",
    "\n",
    "import matplotlib.ticker as plticker\n",
    "import seaborn as sns\n",
    "\n",
    "sns.set_style(\"whitegrid\")\n",
    "pd.set_option(\"display.precision\", 4)\n",
    "\n",
    "# show all columns by default\n",
    "pd.set_option('display.max_columns', None)"
   ]
  },
  {
   "cell_type": "code",
   "execution_count": 1,
   "metadata": {},
   "outputs": [
    {
     "name": "stdout",
     "output_type": "stream",
     "text": [
      "--2021-05-26 14:19:06--  https://www.dropbox.com/s/pfsiodhtzetxbl0/ltc-all-the-states-2021-05-26.zip?dl=1\n",
      "Resolving www.dropbox.com (www.dropbox.com)... 162.125.2.18\n",
      "Connecting to www.dropbox.com (www.dropbox.com)|162.125.2.18|:443... connected.\n",
      "HTTP request sent, awaiting response... 301 Moved Permanently\n",
      "Location: /s/dl/pfsiodhtzetxbl0/ltc-all-the-states-2021-05-26.zip [following]\n",
      "--2021-05-26 14:19:06--  https://www.dropbox.com/s/dl/pfsiodhtzetxbl0/ltc-all-the-states-2021-05-26.zip\n",
      "Reusing existing connection to www.dropbox.com:443.\n",
      "HTTP request sent, awaiting response... 302 Found\n",
      "Location: https://uc695134ec738d68f33af3d8d0e5.dl.dropboxusercontent.com/cd/0/get/BPOhgx3XN6DOuT-kj8NjBSU9fzj8qmMVLEqK08OI3FwgScyhDH4P528YS80NR4zSjfkygFNFn5Pcuqrmkl4VkkIbWxwsyPo1A-w3tGMfoktKn-l1mOy8g9qAkKCPPwBQlRtANuKRrj9UAKm_eG-UZkbP/file?dl=1# [following]\n",
      "--2021-05-26 14:19:07--  https://uc695134ec738d68f33af3d8d0e5.dl.dropboxusercontent.com/cd/0/get/BPOhgx3XN6DOuT-kj8NjBSU9fzj8qmMVLEqK08OI3FwgScyhDH4P528YS80NR4zSjfkygFNFn5Pcuqrmkl4VkkIbWxwsyPo1A-w3tGMfoktKn-l1mOy8g9qAkKCPPwBQlRtANuKRrj9UAKm_eG-UZkbP/file?dl=1\n",
      "Resolving uc695134ec738d68f33af3d8d0e5.dl.dropboxusercontent.com (uc695134ec738d68f33af3d8d0e5.dl.dropboxusercontent.com)... 162.125.2.15\n",
      "Connecting to uc695134ec738d68f33af3d8d0e5.dl.dropboxusercontent.com (uc695134ec738d68f33af3d8d0e5.dl.dropboxusercontent.com)|162.125.2.15|:443... connected.\n",
      "HTTP request sent, awaiting response... 200 OK\n",
      "Length: 51657737 (49M) [application/binary]\n",
      "Saving to: ‘ltc.zip’\n",
      "\n",
      "ltc.zip             100%[===================>]  49.26M  2.19MB/s    in 22s     \n",
      "\n",
      "2021-05-26 14:19:29 (2.29 MB/s) - ‘ltc.zip’ saved [51657737/51657737]\n",
      "\n"
     ]
    }
   ],
   "source": [
    "!wget https://www.dropbox.com/s/pfsiodhtzetxbl0/ltc-all-the-states-2021-05-26.zip?dl=1 -O ltc.zip"
   ]
  },
  {
   "cell_type": "code",
   "execution_count": 2,
   "metadata": {},
   "outputs": [
    {
     "name": "stdout",
     "output_type": "stream",
     "text": [
      "Archive:  ltc.zip\n",
      "   creating: ltc-all-the-states/\n",
      "  inflating: ltc-all-the-states/ltc-overview-VT.html  \n",
      "  inflating: ltc-all-the-states/csvexport-ltc-ctpcmsmerged-HI.csv  \n",
      "  inflating: ltc-all-the-states/csvexport-ltc-overview-SC.csv  \n",
      "  inflating: ltc-all-the-states/csvexport-ltc-ctpcmsmerged-GA.csv  \n",
      "  inflating: ltc-all-the-states/ltc-overview-SC.html  \n",
      "  inflating: ltc-all-the-states/csvexport-ltc-ctpcmsmerged-DC.csv  \n",
      "  inflating: ltc-all-the-states/ltc-allstates-cumulative_resident_deaths_vs_cms_nursing_home_data-2021-05-26.html  \n",
      "  inflating: ltc-all-the-states/csvexport-ltc-overview-KY.csv  \n",
      "  inflating: ltc-all-the-states/csvexport-ltc-ctpcmsmerged-CO.csv  \n",
      "  inflating: ltc-all-the-states/ltc-overview-MS.html  \n",
      "  inflating: ltc-all-the-states/csvexport-ltc-ctpcmsmerged-ME.csv  \n",
      "  inflating: ltc-all-the-states/csvexport-ltc-overview-NV.csv  \n",
      "  inflating: ltc-all-the-states/ltc-overview-TN.html  \n",
      "  inflating: ltc-all-the-states/ltc-overview-HI.html  \n",
      "  inflating: ltc-all-the-states/csvexport-ltc-ctpcmsmerged-NC.csv  \n",
      "  inflating: ltc-all-the-states/csvexport-ltc-ctpcmsmerged-OR.csv  \n",
      "  inflating: ltc-all-the-states/ltc-overview-ID.html  \n",
      "  inflating: ltc-all-the-states/csvexport-ltc-overview-VT.csv  \n",
      "  inflating: ltc-all-the-states/csvexport-ltc-overview-WV.csv  \n",
      "  inflating: ltc-all-the-states/ltc-allstates-outbreak_resident_cases_vs_cms_nursing_home_data-2021-05-26.html  \n",
      "  inflating: ltc-all-the-states/csvexport-ltc-overview-NY.csv  \n",
      "  inflating: ltc-all-the-states/csvexport-ltc-overview-OR.csv  \n",
      "  inflating: ltc-all-the-states/ltc-overview-KS.html  \n",
      "  inflating: ltc-all-the-states/ltc-overview-MI.html  \n",
      "  inflating: ltc-all-the-states/ltc-overview-NC.html  \n",
      "  inflating: ltc-all-the-states/csvexport-ltc-ctpcmsmerged-CA.csv  \n",
      "  inflating: ltc-all-the-states/csvexport-ltc-overview-UT.csv  \n",
      "  inflating: ltc-all-the-states/ltc-allstates-cumulative_resident_cases_vs_cms_nursing_home_data-2021-05-26.html  \n",
      "  inflating: ltc-all-the-states/ltc-overview-TX.html  \n",
      "  inflating: ltc-all-the-states/ltc-overview-IN.html  \n",
      "  inflating: ltc-all-the-states/csvexport-ltc-overview-IL.csv  \n",
      "  inflating: ltc-all-the-states/csvexport-ltc-overview-AR.csv  \n",
      "  inflating: ltc-all-the-states/ltc-overview-MN.html  \n",
      "  inflating: ltc-all-the-states/ltc-overview-RI.html  \n",
      "  inflating: ltc-all-the-states/ltc-allstates-outbreak_resident_deaths_vs_cms_nursing_home_data-2021-05-26.html  \n",
      "  inflating: ltc-all-the-states/csvexport-ltc-ctpcmsmerged-MN.csv  \n",
      "  inflating: ltc-all-the-states/ltc-overview-ME.html  \n",
      "  inflating: ltc-all-the-states/ltc-overview-LA.html  \n",
      "  inflating: ltc-all-the-states/csvexport-ltc-overview-OH.csv  \n",
      "  inflating: ltc-all-the-states/csvexport-ltc-overview-NC.csv  \n",
      "  inflating: ltc-all-the-states/csvexport-ltc-ctpcmsmerged-IN.csv  \n",
      "  inflating: ltc-all-the-states/csvexport-ltc-ctpcmsmerged-OK.csv  \n",
      "  inflating: ltc-all-the-states/ltc-overview-WI.html  \n",
      "  inflating: ltc-all-the-states/ltc-overview-VA.html  \n",
      "  inflating: ltc-all-the-states/csvexport-ltc-overview-WY.csv  \n",
      "  inflating: ltc-all-the-states/ltc-overview-NJ.html  \n",
      "  inflating: ltc-all-the-states/csvexport-ltc-ctpcmsmerged-NY.csv  \n",
      "  inflating: ltc-all-the-states/csvexport-ltc-overview-MD.csv  \n",
      "  inflating: ltc-all-the-states/csvexport-ltc-ctpcmsmerged-AR.csv  \n",
      "  inflating: ltc-all-the-states/csvexport-ltc-overview-WI.csv  \n",
      "  inflating: ltc-all-the-states/csvexport-ltc-ctpcmsmerged-MO.csv  \n",
      "  inflating: ltc-all-the-states/ltc-allstates-outbreak_resident_deaths-2021-05-26.html  \n",
      "  inflating: ltc-all-the-states/csvexport-ltc-overview-NJ.csv  \n",
      "  inflating: ltc-all-the-states/csvexport-ltc-overview-DE.csv  \n",
      "  inflating: ltc-all-the-states/ltc-allstates-cumulative_resident_and_staff_cases-2021-05-26.html  \n",
      "  inflating: ltc-all-the-states/csvexport-ltc-overview-MI.csv  \n",
      "  inflating: ltc-all-the-states/csvexport-ltc-ctpcmsmerged-MA.csv  \n",
      "  inflating: ltc-all-the-states/ltc-overview-OR.html  \n",
      "  inflating: ltc-all-the-states/csvexport-ltc-overview-MA.csv  \n",
      "  inflating: ltc-all-the-states/csvexport-ltc-ctpcmsmerged-WY.csv  \n",
      "  inflating: ltc-all-the-states/ltc-overview-KY.html  \n",
      "  inflating: ltc-all-the-states/csvexport-ltc-ctpcmsmerged-SC.csv  \n",
      "  inflating: ltc-all-the-states/csvexport-ltc-ctpcmsmerged-KS.csv  \n",
      "  inflating: ltc-all-the-states/csvexport-ltc-overview-GA.csv  \n",
      "  inflating: ltc-all-the-states/ltc-overview-PA.html  \n",
      "  inflating: ltc-all-the-states/ltc-allstates-cumulative_resident_and_staff_cases_vs_cms_nursing_home_data-2021-05-26.html  \n",
      "  inflating: ltc-all-the-states/ltc-overview-DC.html  \n",
      "  inflating: ltc-all-the-states/csvexport-ltc-ctpcmsmerged-DE.csv  \n",
      "  inflating: ltc-all-the-states/csvexport-ltc-overview-FL.csv  \n",
      "  inflating: ltc-all-the-states/csvexport-ltc-ctpcmsmerged-NM.csv  \n",
      "  inflating: ltc-all-the-states/ltc-overview-OK.html  \n",
      "  inflating: ltc-all-the-states/ltc-overview-CA.html  \n",
      "  inflating: ltc-all-the-states/csvexport-ltc-overview-VA.csv  \n",
      "  inflating: ltc-all-the-states/csvexport-ltc-ctpcmsmerged-FL.csv  \n",
      "  inflating: ltc-all-the-states/csvexport-ltc-ctpcmsmerged-OH.csv  \n",
      "  inflating: ltc-all-the-states/ltc-overview-NV.html  \n",
      "  inflating: ltc-all-the-states/csvexport-ltc-ctpcmsmerged-RI.csv  \n",
      "  inflating: ltc-all-the-states/csvexport-ltc-allstates.csv  \n",
      "  inflating: ltc-all-the-states/ltc-allstates-facilities_reporting-2021-05-26.html  \n",
      "  inflating: ltc-all-the-states/csvexport-ltc-ctpcmsmerged-CT.csv  \n",
      "  inflating: ltc-all-the-states/csvexport-ltc-ctpcmsmerged-WI.csv  \n",
      "  inflating: ltc-all-the-states/csvexport-ltc-ctpcmsmerged-MI.csv  \n",
      "  inflating: ltc-all-the-states/csvexport-ltc-ctpcmsmerged-WV.csv  \n",
      "  inflating: ltc-all-the-states/ltc-allstates-outbreak_resident_cases-2021-05-26.html  \n",
      "  inflating: ltc-all-the-states/ltc-allstates-cumulative_staff_deaths-2021-05-26.html  \n",
      "  inflating: ltc-all-the-states/ltc-overview-MD.html  \n",
      "  inflating: ltc-all-the-states/ltc-allstates-cumulative_resident_and_staff_deaths-2021-05-26.html  \n",
      "  inflating: ltc-all-the-states/csvexport-ltc-overview-MN.csv  \n",
      "  inflating: ltc-all-the-states/ltc-overview-DE.html  \n",
      "  inflating: ltc-all-the-states/csvexport-ltc-overview-ME.csv  \n",
      "  inflating: ltc-all-the-states/csvexport-ltc-ctpcmsmerged-TX.csv  \n",
      "  inflating: ltc-all-the-states/ltc-allstates-cumulative_resident_and_staff_deaths_vs_cms_nursing_home_data-2021-05-26.html  \n",
      "  inflating: ltc-all-the-states/ltc-overview-IL.html  \n",
      "  inflating: ltc-all-the-states/csvexport-ltc-overview-HI.csv  \n",
      "  inflating: ltc-all-the-states/ltc-overview-AR.html  \n",
      "  inflating: ltc-all-the-states/csvexport-ltc-overview-CA.csv  \n",
      "  inflating: ltc-all-the-states/csvexport-ltc-ctpcmsmerged-UT.csv  \n",
      "  inflating: ltc-all-the-states/ltc-overview-NY.html  \n",
      "  inflating: ltc-all-the-states/ltc-allstates-cumulative_resident_cases-2021-05-26.html  \n",
      "  inflating: ltc-all-the-states/csvexport-ltc-ctpcmsmerged-ND.csv  \n",
      "  inflating: ltc-all-the-states/csvexport-ltc-overview-LA.csv  \n",
      "  inflating: ltc-all-the-states/csvexport-ltc-overview-RI.csv  \n",
      "  inflating: ltc-all-the-states/csvexport-ltc-overview-CO.csv  \n",
      "  inflating: ltc-all-the-states/csvexport-ltc-ctpcmsmerged-IL.csv  \n",
      "  inflating: ltc-all-the-states/csvexport-ltc-overview-MO.csv  \n",
      "  inflating: ltc-all-the-states/ltc-overview-UT.html  \n",
      "  inflating: ltc-all-the-states/csvexport-ltc-ctpcmsmerged-PA.csv  \n",
      "  inflating: ltc-all-the-states/ltc-overview-ND.html  \n",
      "  inflating: ltc-all-the-states/csvexport-ltc-ctpcmsmerged-IA.csv  \n",
      "  inflating: ltc-all-the-states/csvexport-ltc-overview-PA.csv  \n",
      "  inflating: ltc-all-the-states/ltc-allstates-cumulative_staff_cases-2021-05-26.html  \n",
      "  inflating: ltc-all-the-states/csvexport-ltc-ctpcmsmerged-VT.csv  \n",
      "  inflating: ltc-all-the-states/ltc-overview-MA.html  \n",
      "  inflating: ltc-all-the-states/csvexport-ltc-ctpcmsmerged-MD.csv  \n",
      "  inflating: ltc-all-the-states/csvexport-ltc-ctpcmsmerged-NV.csv  \n",
      "  inflating: ltc-all-the-states/csvexport-ltc-overview-ID.csv  \n",
      "  inflating: ltc-all-the-states/csvexport-ltc-overview-IA.csv  \n",
      "  inflating: ltc-all-the-states/csvexport-ltc-overview-OK.csv  \n",
      "  inflating: ltc-all-the-states/csvexport-ltc-ctpcmsmerged-NJ.csv  \n",
      "  inflating: ltc-all-the-states/csvexport-ltc-overview-IN.csv  \n",
      "  inflating: ltc-all-the-states/ltc-overview-MO.html  \n",
      "  inflating: ltc-all-the-states/ltc-overview-CO.html  \n"
     ]
    },
    {
     "name": "stdout",
     "output_type": "stream",
     "text": [
      "  inflating: ltc-all-the-states/csvexport-ltc-ctpcmsmerged-TN.csv  \n",
      "  inflating: ltc-all-the-states/csvexport-ltc-ctpcmsmerged-LA.csv  \n",
      "  inflating: ltc-all-the-states/csvexport-ltc-overview-CT.csv  \n",
      "  inflating: ltc-all-the-states/ltc-overview-IA.html  \n",
      "  inflating: ltc-all-the-states/csvexport-ltc-ctpcmsmerged-KY.csv  \n",
      "  inflating: ltc-all-the-states/csvexport-ltc-overview-KS.csv  \n",
      "  inflating: ltc-all-the-states/ltc-allstates-cumulative_resident_deaths-2021-05-26.html  \n",
      "  inflating: ltc-all-the-states/csvexport-ltc-overview-TN.csv  \n",
      "  inflating: ltc-all-the-states/csvexport-ltc-overview-NM.csv  \n",
      "  inflating: ltc-all-the-states/csvexport-ltc-overview-DC.csv  \n",
      "  inflating: ltc-all-the-states/ltc-allstates-facilities_reporting_vs_cms_nursing_home_data-2021-05-26.html  \n",
      "  inflating: ltc-all-the-states/ltc-overview-CT.html  \n",
      "  inflating: ltc-all-the-states/ltc-overview-FL.html  \n",
      "  inflating: ltc-all-the-states/csvexport-ltc-ctpcmsmerged-MS.csv  \n",
      "  inflating: ltc-all-the-states/csvexport-ltc-overview-ND.csv  \n",
      "  inflating: ltc-all-the-states/ltc-overview-NM.html  \n",
      "  inflating: ltc-all-the-states/csvexport-ltc-overview-MS.csv  \n",
      "  inflating: ltc-all-the-states/ltc-overview-WV.html  \n",
      "  inflating: ltc-all-the-states/ltc-overview-GA.html  \n",
      "  inflating: ltc-all-the-states/csvexport-ltc-overview-TX.csv  \n",
      "  inflating: ltc-all-the-states/csvexport-ltc-ctpcmsmerged-VA.csv  \n",
      "  inflating: ltc-all-the-states/ltc-overview-WY.html  \n",
      "  inflating: ltc-all-the-states/csvexport-ltc-ctpcmsmerged-ID.csv  \n",
      "  inflating: ltc-all-the-states/ltc-overview-OH.html  \n"
     ]
    }
   ],
   "source": [
    "!unzip ltc.zip"
   ]
  },
  {
   "cell_type": "markdown",
   "metadata": {},
   "source": [
    "# Load CTP data"
   ]
  },
  {
   "cell_type": "code",
   "execution_count": 127,
   "metadata": {},
   "outputs": [
    {
     "name": "stderr",
     "output_type": "stream",
     "text": [
      "/Users/julia/miniconda3/envs/deep-learning-nlp/lib/python3.6/site-packages/IPython/core/interactiveshell.py:3020: DtypeWarning: Columns (4,5,12) have mixed types.Specify dtype option on import or set low_memory=False.\n",
      "  interactivity=interactivity, compiler=compiler, result=result)\n"
     ]
    },
    {
     "data": {
      "text/html": [
       "<div>\n",
       "<style scoped>\n",
       "    .dataframe tbody tr th:only-of-type {\n",
       "        vertical-align: middle;\n",
       "    }\n",
       "\n",
       "    .dataframe tbody tr th {\n",
       "        vertical-align: top;\n",
       "    }\n",
       "\n",
       "    .dataframe thead th {\n",
       "        text-align: right;\n",
       "    }\n",
       "</style>\n",
       "<table border=\"1\" class=\"dataframe\">\n",
       "  <thead>\n",
       "    <tr style=\"text-align: right;\">\n",
       "      <th></th>\n",
       "      <th>ctp_facility</th>\n",
       "      <th>ctp_ctp_id</th>\n",
       "      <th>ctp_state_facility_type</th>\n",
       "      <th>ctp_ctp_facility_type</th>\n",
       "      <th>ctp_cms_id</th>\n",
       "      <th>ctp_city</th>\n",
       "      <th>ctp_county</th>\n",
       "      <th>ctp_cms_week</th>\n",
       "      <th>ctp_cume_res_death</th>\n",
       "      <th>ctp_cume_res_probdeath</th>\n",
       "      <th>ctp_cume_res_pos</th>\n",
       "      <th>ctp_cume_res_probpos</th>\n",
       "      <th>ctp_outbrk_status</th>\n",
       "      <th>ctp_outbrk_res_death</th>\n",
       "      <th>ctp_outbrk_res_probdeath</th>\n",
       "      <th>ctp_outbrk_res_pos</th>\n",
       "      <th>ctp_outbrk_res_probpos</th>\n",
       "      <th>ctp_outbrk_resstaff_death</th>\n",
       "      <th>ctp_outbrk_resstaff_probdeath</th>\n",
       "      <th>ctp_outbrk_resstaff_pos</th>\n",
       "      <th>ctp_outbrk_resstaff_probpos</th>\n",
       "      <th>ctp_cume_resstaff_pos</th>\n",
       "      <th>ctp_cume_resstaff_probpos</th>\n",
       "      <th>ctp_cume_resstaff_death</th>\n",
       "      <th>ctp_cume_resstaff_probdeath</th>\n",
       "      <th>ctp_cume_staff_pos</th>\n",
       "      <th>ctp_cume_staff_probpos</th>\n",
       "      <th>ctp_cume_staff_death</th>\n",
       "      <th>ctp_cume_staff_probdeath</th>\n",
       "      <th>order</th>\n",
       "      <th>ctp_state</th>\n",
       "    </tr>\n",
       "  </thead>\n",
       "  <tbody>\n",
       "    <tr>\n",
       "      <th>0</th>\n",
       "      <td>ALLAY HEALTH AND REHAB</td>\n",
       "      <td>AR00004</td>\n",
       "      <td>UNCATEGORIZED LTC</td>\n",
       "      <td>Nursing Home</td>\n",
       "      <td>45288</td>\n",
       "      <td>LITTLE ROCK</td>\n",
       "      <td>PULASKI</td>\n",
       "      <td>2020-05-24</td>\n",
       "      <td>1.0</td>\n",
       "      <td>NaN</td>\n",
       "      <td>5.0</td>\n",
       "      <td>NaN</td>\n",
       "      <td>NaN</td>\n",
       "      <td>NaN</td>\n",
       "      <td>NaN</td>\n",
       "      <td>NaN</td>\n",
       "      <td>NaN</td>\n",
       "      <td>NaN</td>\n",
       "      <td>NaN</td>\n",
       "      <td>NaN</td>\n",
       "      <td>NaN</td>\n",
       "      <td>NaN</td>\n",
       "      <td>NaN</td>\n",
       "      <td>NaN</td>\n",
       "      <td>NaN</td>\n",
       "      <td>5.0</td>\n",
       "      <td>NaN</td>\n",
       "      <td>NaN</td>\n",
       "      <td>NaN</td>\n",
       "      <td>0</td>\n",
       "      <td>AR</td>\n",
       "    </tr>\n",
       "    <tr>\n",
       "      <th>1</th>\n",
       "      <td>AMBERWOOD HEALTH &amp; REHAB</td>\n",
       "      <td>AR00008</td>\n",
       "      <td>UNCATEGORIZED LTC</td>\n",
       "      <td>Nursing Home</td>\n",
       "      <td>45464</td>\n",
       "      <td>BENTON</td>\n",
       "      <td>SALINE</td>\n",
       "      <td>2020-05-24</td>\n",
       "      <td>0.0</td>\n",
       "      <td>NaN</td>\n",
       "      <td>0.0</td>\n",
       "      <td>NaN</td>\n",
       "      <td>NaN</td>\n",
       "      <td>NaN</td>\n",
       "      <td>NaN</td>\n",
       "      <td>NaN</td>\n",
       "      <td>NaN</td>\n",
       "      <td>NaN</td>\n",
       "      <td>NaN</td>\n",
       "      <td>NaN</td>\n",
       "      <td>NaN</td>\n",
       "      <td>NaN</td>\n",
       "      <td>NaN</td>\n",
       "      <td>NaN</td>\n",
       "      <td>NaN</td>\n",
       "      <td>1.0</td>\n",
       "      <td>NaN</td>\n",
       "      <td>NaN</td>\n",
       "      <td>NaN</td>\n",
       "      <td>0</td>\n",
       "      <td>AR</td>\n",
       "    </tr>\n",
       "    <tr>\n",
       "      <th>2</th>\n",
       "      <td>APPLE CREEK HEALTH &amp; REHABILITATION</td>\n",
       "      <td>AR00010</td>\n",
       "      <td>UNCATEGORIZED LTC</td>\n",
       "      <td>Nursing Home</td>\n",
       "      <td>45465</td>\n",
       "      <td>CENTERTON</td>\n",
       "      <td>BENTON</td>\n",
       "      <td>2020-05-24</td>\n",
       "      <td>0.0</td>\n",
       "      <td>NaN</td>\n",
       "      <td>1.0</td>\n",
       "      <td>NaN</td>\n",
       "      <td>NaN</td>\n",
       "      <td>NaN</td>\n",
       "      <td>NaN</td>\n",
       "      <td>NaN</td>\n",
       "      <td>NaN</td>\n",
       "      <td>NaN</td>\n",
       "      <td>NaN</td>\n",
       "      <td>NaN</td>\n",
       "      <td>NaN</td>\n",
       "      <td>NaN</td>\n",
       "      <td>NaN</td>\n",
       "      <td>NaN</td>\n",
       "      <td>NaN</td>\n",
       "      <td>0.0</td>\n",
       "      <td>NaN</td>\n",
       "      <td>NaN</td>\n",
       "      <td>NaN</td>\n",
       "      <td>0</td>\n",
       "      <td>AR</td>\n",
       "    </tr>\n",
       "    <tr>\n",
       "      <th>3</th>\n",
       "      <td>ASH FLAT HEALTHCARE AND REHABILITATION CENTER</td>\n",
       "      <td>AR00022</td>\n",
       "      <td>UNCATEGORIZED LTC</td>\n",
       "      <td>Nursing Home</td>\n",
       "      <td>45155</td>\n",
       "      <td>ASH FLAT</td>\n",
       "      <td>SHARP</td>\n",
       "      <td>2020-05-24</td>\n",
       "      <td>2.0</td>\n",
       "      <td>NaN</td>\n",
       "      <td>32.0</td>\n",
       "      <td>NaN</td>\n",
       "      <td>NaN</td>\n",
       "      <td>NaN</td>\n",
       "      <td>NaN</td>\n",
       "      <td>NaN</td>\n",
       "      <td>NaN</td>\n",
       "      <td>NaN</td>\n",
       "      <td>NaN</td>\n",
       "      <td>NaN</td>\n",
       "      <td>NaN</td>\n",
       "      <td>NaN</td>\n",
       "      <td>NaN</td>\n",
       "      <td>NaN</td>\n",
       "      <td>NaN</td>\n",
       "      <td>13.0</td>\n",
       "      <td>NaN</td>\n",
       "      <td>NaN</td>\n",
       "      <td>NaN</td>\n",
       "      <td>0</td>\n",
       "      <td>AR</td>\n",
       "    </tr>\n",
       "    <tr>\n",
       "      <th>4</th>\n",
       "      <td>BELLE VIEW ESTATES REHABILITATION &amp; CARE CENTER</td>\n",
       "      <td>AR00035</td>\n",
       "      <td>UNCATEGORIZED LTC</td>\n",
       "      <td>Nursing Home</td>\n",
       "      <td>45239</td>\n",
       "      <td>MONTICELLO</td>\n",
       "      <td>DREW</td>\n",
       "      <td>2020-05-24</td>\n",
       "      <td>0.0</td>\n",
       "      <td>NaN</td>\n",
       "      <td>1.0</td>\n",
       "      <td>NaN</td>\n",
       "      <td>NaN</td>\n",
       "      <td>NaN</td>\n",
       "      <td>NaN</td>\n",
       "      <td>NaN</td>\n",
       "      <td>NaN</td>\n",
       "      <td>NaN</td>\n",
       "      <td>NaN</td>\n",
       "      <td>NaN</td>\n",
       "      <td>NaN</td>\n",
       "      <td>NaN</td>\n",
       "      <td>NaN</td>\n",
       "      <td>NaN</td>\n",
       "      <td>NaN</td>\n",
       "      <td>0.0</td>\n",
       "      <td>NaN</td>\n",
       "      <td>NaN</td>\n",
       "      <td>NaN</td>\n",
       "      <td>0</td>\n",
       "      <td>AR</td>\n",
       "    </tr>\n",
       "  </tbody>\n",
       "</table>\n",
       "</div>"
      ],
      "text/plain": [
       "                                      ctp_facility ctp_ctp_id  \\\n",
       "0                           ALLAY HEALTH AND REHAB    AR00004   \n",
       "1                         AMBERWOOD HEALTH & REHAB    AR00008   \n",
       "2              APPLE CREEK HEALTH & REHABILITATION    AR00010   \n",
       "3    ASH FLAT HEALTHCARE AND REHABILITATION CENTER    AR00022   \n",
       "4  BELLE VIEW ESTATES REHABILITATION & CARE CENTER    AR00035   \n",
       "\n",
       "  ctp_state_facility_type ctp_ctp_facility_type ctp_cms_id     ctp_city  \\\n",
       "0       UNCATEGORIZED LTC          Nursing Home      45288  LITTLE ROCK   \n",
       "1       UNCATEGORIZED LTC          Nursing Home      45464       BENTON   \n",
       "2       UNCATEGORIZED LTC          Nursing Home      45465    CENTERTON   \n",
       "3       UNCATEGORIZED LTC          Nursing Home      45155     ASH FLAT   \n",
       "4       UNCATEGORIZED LTC          Nursing Home      45239   MONTICELLO   \n",
       "\n",
       "  ctp_county ctp_cms_week  ctp_cume_res_death  ctp_cume_res_probdeath  \\\n",
       "0    PULASKI   2020-05-24                 1.0                     NaN   \n",
       "1     SALINE   2020-05-24                 0.0                     NaN   \n",
       "2     BENTON   2020-05-24                 0.0                     NaN   \n",
       "3      SHARP   2020-05-24                 2.0                     NaN   \n",
       "4       DREW   2020-05-24                 0.0                     NaN   \n",
       "\n",
       "   ctp_cume_res_pos  ctp_cume_res_probpos ctp_outbrk_status  \\\n",
       "0               5.0                   NaN               NaN   \n",
       "1               0.0                   NaN               NaN   \n",
       "2               1.0                   NaN               NaN   \n",
       "3              32.0                   NaN               NaN   \n",
       "4               1.0                   NaN               NaN   \n",
       "\n",
       "   ctp_outbrk_res_death  ctp_outbrk_res_probdeath  ctp_outbrk_res_pos  \\\n",
       "0                   NaN                       NaN                 NaN   \n",
       "1                   NaN                       NaN                 NaN   \n",
       "2                   NaN                       NaN                 NaN   \n",
       "3                   NaN                       NaN                 NaN   \n",
       "4                   NaN                       NaN                 NaN   \n",
       "\n",
       "   ctp_outbrk_res_probpos  ctp_outbrk_resstaff_death  \\\n",
       "0                     NaN                        NaN   \n",
       "1                     NaN                        NaN   \n",
       "2                     NaN                        NaN   \n",
       "3                     NaN                        NaN   \n",
       "4                     NaN                        NaN   \n",
       "\n",
       "   ctp_outbrk_resstaff_probdeath  ctp_outbrk_resstaff_pos  \\\n",
       "0                            NaN                      NaN   \n",
       "1                            NaN                      NaN   \n",
       "2                            NaN                      NaN   \n",
       "3                            NaN                      NaN   \n",
       "4                            NaN                      NaN   \n",
       "\n",
       "   ctp_outbrk_resstaff_probpos  ctp_cume_resstaff_pos  \\\n",
       "0                          NaN                    NaN   \n",
       "1                          NaN                    NaN   \n",
       "2                          NaN                    NaN   \n",
       "3                          NaN                    NaN   \n",
       "4                          NaN                    NaN   \n",
       "\n",
       "   ctp_cume_resstaff_probpos  ctp_cume_resstaff_death  \\\n",
       "0                        NaN                      NaN   \n",
       "1                        NaN                      NaN   \n",
       "2                        NaN                      NaN   \n",
       "3                        NaN                      NaN   \n",
       "4                        NaN                      NaN   \n",
       "\n",
       "   ctp_cume_resstaff_probdeath  ctp_cume_staff_pos  ctp_cume_staff_probpos  \\\n",
       "0                          NaN                 5.0                     NaN   \n",
       "1                          NaN                 1.0                     NaN   \n",
       "2                          NaN                 0.0                     NaN   \n",
       "3                          NaN                13.0                     NaN   \n",
       "4                          NaN                 0.0                     NaN   \n",
       "\n",
       "   ctp_cume_staff_death  ctp_cume_staff_probdeath  order ctp_state  \n",
       "0                   NaN                       NaN      0        AR  \n",
       "1                   NaN                       NaN      0        AR  \n",
       "2                   NaN                       NaN      0        AR  \n",
       "3                   NaN                       NaN      0        AR  \n",
       "4                   NaN                       NaN      0        AR  "
      ]
     },
     "execution_count": 127,
     "metadata": {},
     "output_type": "execute_result"
    }
   ],
   "source": [
    "ctp_df = pd.read_csv('ltc-all-the-states/csvexport-ltc-allstates.csv').drop_duplicates()\n",
    "ctp_df.head()"
   ]
  },
  {
   "cell_type": "code",
   "execution_count": 129,
   "metadata": {},
   "outputs": [
    {
     "name": "stdout",
     "output_type": "stream",
     "text": [
      "(759522, 36)\n",
      "(759522, 38)\n"
     ]
    }
   ],
   "source": [
    "# annotate CTP data\n",
    "\n",
    "def annotate_ctp_df(ctp_df):\n",
    "  # cases\n",
    "  ctp_resident_case_cols = ['ctp_cume_res_pos', 'ctp_cume_res_probpos']\n",
    "  ctp_staff_case_cols = ['ctp_cume_staff_pos', 'ctp_cume_staff_probpos']\n",
    "  ctp_resstaff_case_cols = ['ctp_cume_resstaff_pos', 'ctp_cume_resstaff_probpos']\n",
    "\n",
    "  # deaths\n",
    "  ctp_resident_death_cols = ['ctp_cume_res_death', 'ctp_cume_res_probdeath']\n",
    "  ctp_staff_death_cols = ['ctp_cume_staff_death', 'ctp_cume_staff_probdeath']\n",
    "  ctp_resstaff_death_cols = ['ctp_cume_resstaff_death', 'ctp_cume_resstaff_probdeath']\n",
    "\n",
    "  # total case columns\n",
    "  ctp_df['ctp_resident_total_cases'] = ctp_df[ctp_resident_case_cols].sum(axis=1)\n",
    "  ctp_df['ctp_staff_total_cases'] = ctp_df[ctp_staff_case_cols].sum(axis=1)\n",
    "  ctp_df['ctp_resstaff_total_cases'] = ctp_df[ctp_resstaff_case_cols].sum(axis=1)\n",
    "\n",
    "  # total death columns\n",
    "  ctp_df['ctp_resident_total_deaths'] = ctp_df[ctp_resident_death_cols].sum(axis=1)\n",
    "  ctp_df['ctp_resident_and_resstaff_total_deaths'] = ctp_df[\n",
    "    ctp_resident_death_cols + ctp_resstaff_death_cols].sum(axis=1)\n",
    "  ctp_df['ctp_staff_total_deaths'] = ctp_df[ctp_staff_death_cols].sum(axis=1)\n",
    "  ctp_df['ctp_resstaff_total_deaths'] = ctp_df[ctp_resstaff_death_cols].sum(axis=1)\n",
    "\n",
    "print(ctp_df.shape)\n",
    "annotate_ctp_df(ctp_df)\n",
    "print(ctp_df.shape)"
   ]
  },
  {
   "cell_type": "markdown",
   "metadata": {},
   "source": [
    "# Load CMS data"
   ]
  },
  {
   "cell_type": "code",
   "execution_count": 4,
   "metadata": {},
   "outputs": [],
   "source": [
    "# download CMS: doing this offline\n",
    "# !wget -O cms.csv https://data.cms.gov/api/views/s2uc-8wxp/rows.csv?accessType=DOWNLOAD&api_foundry=true"
   ]
  },
  {
   "cell_type": "code",
   "execution_count": 7,
   "metadata": {},
   "outputs": [
    {
     "name": "stderr",
     "output_type": "stream",
     "text": [
      "/Users/julia/miniconda3/envs/deep-learning-nlp/lib/python3.6/site-packages/IPython/core/interactiveshell.py:3020: DtypeWarning: Columns (1,82,83) have mixed types.Specify dtype option on import or set low_memory=False.\n",
      "  interactivity=interactivity, compiler=compiler, result=result)\n"
     ]
    },
    {
     "name": "stdout",
     "output_type": "stream",
     "text": [
      "(782376, 138)\n"
     ]
    }
   ],
   "source": [
    "cms_df = pd.read_csv('cms.csv')\n",
    "print(cms_df.shape)\n",
    "\n",
    "# clean up the cms df column names (copied from Dave's initial notebook)\n",
    "cms_df['week'] = pd.to_datetime(cms_df['Week Ending'])\n",
    "cms_df.sort_values(['Provider State','Federal Provider Number','week'], ascending=True, inplace=True)\n",
    "cms_df = cms_df.reset_index().drop('index', axis=1)\n",
    "cms_df.columns = ['cms_'+i.lower().strip().replace(' ','_').replace('/','_').replace('-','_') for i in cms_df.columns]\n",
    "cms_df['cms_federal_provider_number'] = cms_df['cms_federal_provider_number'].apply(lambda x: str(x).lstrip('0').split('.')[0])\n",
    "\n",
    "# convert cms_week to cms_week_str to match the CTP data types\n",
    "cms_df['cms_week'] = cms_df.cms_week.apply(lambda x: x.strftime('%Y-%m-%d'))"
   ]
  },
  {
   "cell_type": "code",
   "execution_count": 8,
   "metadata": {},
   "outputs": [],
   "source": [
    "slim_cms_df = cms_df[(cms_df['cms_week']>'2020-05-24')][\n",
    "                        ['cms_week','cms_federal_provider_number',\n",
    "                        'cms_provider_name',\n",
    "                        'cms_provider_state',\n",
    "                        'cms_residents_weekly_confirmed_covid_19',\n",
    "                        'cms_residents_total_confirmed_covid_19',\n",
    "                        'cms_residents_weekly_suspected_covid_19',\n",
    "                        'cms_residents_total_suspected_covid_19',\n",
    "                        'cms_residents_weekly_covid_19_deaths',\n",
    "                        'cms_residents_total_covid_19_deaths',\n",
    "                        'cms_residents_weekly_all_deaths',\n",
    "                        'cms_residents_total_all_deaths',\n",
    "                        'cms_staff_weekly_confirmed_covid_19',\n",
    "                        'cms_staff_total_confirmed_covid_19',\n",
    "                        'cms_staff_weekly_suspected_covid_19',\n",
    "                        'cms_staff_total_suspected_covid_19',\n",
    "                        'cms_staff_weekly_covid_19_deaths',\n",
    "                        'cms_staff_total_covid_19_deaths',\n",
    "                        # 'cms_number_of_all_beds',\n",
    "                        # 'cms_total_number_of_occupied_beds',\n",
    "                      ]]"
   ]
  },
  {
   "cell_type": "code",
   "execution_count": 9,
   "metadata": {},
   "outputs": [
    {
     "data": {
      "text/plain": [
       "(767008, 18)"
      ]
     },
     "execution_count": 9,
     "metadata": {},
     "output_type": "execute_result"
    }
   ],
   "source": [
    "slim_cms_df.shape"
   ]
  },
  {
   "cell_type": "code",
   "execution_count": 10,
   "metadata": {},
   "outputs": [
    {
     "data": {
      "text/plain": [
       "(767008, 20)"
      ]
     },
     "execution_count": 10,
     "metadata": {},
     "output_type": "execute_result"
    }
   ],
   "source": [
    "# annotate CMS data\n",
    "def annotate_cms_df(cms_df):\n",
    "    # resident and staff case columns\n",
    "    cms_resident_case_cols = ['cms_residents_total_confirmed_covid_19', 'cms_residents_total_suspected_covid_19']\n",
    "    cms_staff_case_cols = ['cms_staff_total_confirmed_covid_19', 'cms_staff_total_suspected_covid_19']\n",
    "\n",
    "    # total case columns\n",
    "    cms_df['cms_resident_total_cases'] = cms_df[cms_resident_case_cols].sum(axis=1)\n",
    "    cms_df['cms_staff_total_cases'] = cms_df[cms_staff_case_cols].sum(axis=1)\n",
    "\n",
    "annotate_cms_df(slim_cms_df)\n",
    "slim_cms_df.shape"
   ]
  },
  {
   "cell_type": "markdown",
   "metadata": {},
   "source": [
    "# Merge CTP and CMS data"
   ]
  },
  {
   "cell_type": "code",
   "execution_count": 130,
   "metadata": {},
   "outputs": [
    {
     "name": "stdout",
     "output_type": "stream",
     "text": [
      "Inner merged shape: (289533, 58)\n",
      "Outer merged shape: (1245086, 58)\n",
      "CMS shape: (767008, 20)\n",
      "CTP shape: (759522, 38)\n"
     ]
    }
   ],
   "source": [
    "cms_ctp_merged = pd.merge(slim_cms_df, ctp_df, how='inner', left_on=['cms_week','cms_federal_provider_number'], right_on=['ctp_cms_week','ctp_cms_id'])\n",
    "cms_ctp_merged_outer = pd.merge(slim_cms_df, ctp_df, how='outer', left_on=['cms_week','cms_federal_provider_number'], right_on=['ctp_cms_week','ctp_cms_id'])\n",
    "print('Inner merged shape: %s' % str(cms_ctp_merged.shape))\n",
    "print('Outer merged shape: %s' % str(cms_ctp_merged_outer.shape))\n",
    "print('CMS shape: %s' % str(slim_cms_df.shape))\n",
    "print('CTP shape: %s' % str(ctp_df.shape))"
   ]
  },
  {
   "cell_type": "code",
   "execution_count": 131,
   "metadata": {},
   "outputs": [
    {
     "data": {
      "text/plain": [
       "(289533, 68)"
      ]
     },
     "execution_count": 131,
     "metadata": {},
     "output_type": "execute_result"
    }
   ],
   "source": [
    "def annotate_cms_ctp_merged_df(cms_ctp_merged):\n",
    "  # case difference columns\n",
    "  cms_ctp_merged['cms_ctp_resident_cases_diff'] = \\\n",
    "    cms_ctp_merged['cms_resident_total_cases'] - cms_ctp_merged['ctp_resident_total_cases']\n",
    "  cms_ctp_merged['cms_ctp_staff_cases_diff'] = \\\n",
    "    cms_ctp_merged['cms_staff_total_cases'] - cms_ctp_merged['ctp_staff_total_cases']\n",
    "\n",
    "  # deaths difference columns\n",
    "  cms_ctp_merged['cms_ctp_resident_deaths_diff'] = \\\n",
    "    cms_ctp_merged['cms_residents_total_covid_19_deaths'] - cms_ctp_merged['ctp_resident_total_deaths']\n",
    "  cms_ctp_merged['cms_ctp_staff_deaths_diff'] = \\\n",
    "    cms_ctp_merged['cms_staff_total_covid_19_deaths'] - cms_ctp_merged['ctp_staff_total_deaths']\n",
    "  cms_ctp_merged['cms_ctp_resident_and_resstaff_deaths_diff'] = \\\n",
    "    cms_ctp_merged['cms_residents_total_covid_19_deaths'] - cms_ctp_merged['ctp_resident_and_resstaff_total_deaths']\n",
    "\n",
    "  # for each \"diff\" col, compute its absolute value\n",
    "  diff_cols = [x for x in cms_ctp_merged.columns if x.endswith('_diff')]\n",
    "  for diff_col in diff_cols:\n",
    "    cms_ctp_merged[diff_col + '_abs'] = cms_ctp_merged[diff_col].abs()\n",
    "\n",
    "annotate_cms_ctp_merged_df(cms_ctp_merged)\n",
    "cms_ctp_merged.shape"
   ]
  },
  {
   "cell_type": "markdown",
   "metadata": {},
   "source": [
    "# Some constants"
   ]
  },
  {
   "cell_type": "code",
   "execution_count": 132,
   "metadata": {},
   "outputs": [
    {
     "name": "stdout",
     "output_type": "stream",
     "text": [
      "2021-03-07\n"
     ]
    }
   ],
   "source": [
    "LATEST_DATE = cms_ctp_merged.ctp_cms_week.max()\n",
    "print(LATEST_DATE)"
   ]
  },
  {
   "cell_type": "markdown",
   "metadata": {},
   "source": [
    "# Actual analysis bits"
   ]
  },
  {
   "cell_type": "code",
   "execution_count": 133,
   "metadata": {},
   "outputs": [],
   "source": [
    "def plot_facilities_barchart(cms_ctp_merged, state, diffs_to_plot, use_date='latest'):\n",
    "  # create the necessary data, save a file describing matching problems for the latest date\n",
    "  state_cms_ctp_merged_df = cms_ctp_merged.loc[cms_ctp_merged.ctp_state == state].copy()\n",
    "\n",
    "  for (abs_diff_cutoff, y_axis) in diffs_to_plot:\n",
    "    abs_column = y_axis + '_abs'\n",
    "    title = '%s %s: CMS minus CTP (min diff cutoff: %d)' % (state, y_axis[8:].replace('_', ' '), abs_diff_cutoff)\n",
    "\n",
    "    # plot away and save results\n",
    "    plt.figure(figsize=(18,7))\n",
    "\n",
    "    def get_color(row):\n",
    "        if row[y_axis] > 0:\n",
    "            return '#ffad4a'  # orange\n",
    "        else:\n",
    "            return '#585bc1'  # purple\n",
    "\n",
    "    # grab everything as of the given date\n",
    "    if use_date == 'latest':\n",
    "      use_date = state_cms_ctp_merged_df.cms_week.max()\n",
    "    state_cms_ctp_merged_df_most_recent_date = state_cms_ctp_merged_df.loc[\n",
    "        (state_cms_ctp_merged_df.cms_week == use_date)]\n",
    "\n",
    "    high_diffs_df = state_cms_ctp_merged_df_most_recent_date.loc[\n",
    "      state_cms_ctp_merged_df_most_recent_date[abs_column] > abs_diff_cutoff].sort_values(by=[y_axis]).reset_index()\n",
    "    data = high_diffs_df\n",
    "    if data.empty:\n",
    "      print('No data passing the input filters')\n",
    "      return\n",
    "    palette = list(data.apply(get_color, axis=1))\n",
    "\n",
    "    ax = sns.barplot(x=data.index, y=y_axis, data=data, palette=palette)\n",
    "    sns.despine(ax=ax, left=True)\n",
    "    ax.set_xticklabels(rotation=90, labels=data.ctp_facility, fontsize=10)\n",
    "    ax.set_yticklabels(ax.get_yticks(), size=14)\n",
    "    ax.set_ylabel('')\n",
    "    ax.set_xlabel('')\n",
    "    ax.set_title(title, size=20)\n",
    "    return high_diffs_df"
   ]
  },
  {
   "cell_type": "code",
   "execution_count": 134,
   "metadata": {},
   "outputs": [],
   "source": [
    "# state = 'AR'\n",
    "\n",
    "# # each item in the tuple is: (the minimum abs diff to include a facility in the plot, column whose values we're plotting)\n",
    "# diffs_to_plot = (\n",
    "#     [15, 'cms_ctp_resident_deaths_diff'],\n",
    "# )\n",
    "\n",
    "# high_diffs = plot_facilities_barchart(cms_ctp_merged, state, diffs_to_plot)"
   ]
  },
  {
   "cell_type": "code",
   "execution_count": 135,
   "metadata": {},
   "outputs": [],
   "source": [
    "# what are the most divergent rows in the most recent data, for a particular state and diff column?\n",
    "state = 'CT'\n",
    "diff_column = 'cms_ctp_resident_deaths_diff'\n",
    "abs_diff_cutoff = 15\n",
    "\n",
    "def get_facility_data(cms_ctp_merged_outer, facility_name, state):\n",
    "    data = cms_ctp_merged_outer.loc[(cms_ctp_merged_outer.ctp_facility == facility_name) & (cms_ctp_merged_outer.ctp_state == state)].sort_values(by=['ctp_cms_week'])\n",
    "    data = data[data['ctp_cms_week'].notna()]\n",
    "    return data\n",
    "\n",
    "# same thing but for the outer merged bit so we can see what happened before that\n",
    "def plot_facility_over_time(state, facility_name, ax=None):\n",
    "    data = get_facility_data(cms_ctp_merged_outer, facility_name, state)\n",
    "    if ax is None:\n",
    "        ax = sns.lineplot(x='ctp_cms_week', y='ctp_resident_total_deaths', data=data, color='orange')  # CTP is orange\n",
    "    else:\n",
    "        sns.lineplot(x='ctp_cms_week', y='ctp_resident_total_deaths', ax=ax, data=data, color='orange')  # CTP is orange\n",
    "    sns.lineplot(x='ctp_cms_week', y='cms_residents_total_covid_19_deaths', data=data, ax=ax, color='blue')  # CMS is blue\n",
    "    ax.set_ylabel('Cumulative deaths')\n",
    "    loc = plticker.MultipleLocator(base=11.0) # this locator puts ticks at regular intervals\n",
    "    ax.xaxis.set_major_locator(loc)\n",
    "    ax.set_title(facility_name)"
   ]
  },
  {
   "cell_type": "markdown",
   "metadata": {},
   "source": [
    "# Are there states that reported way more NH deaths the last week of May/first 2 weeks of June than CMS?\n",
    "# If you track specific facilities that were reporting more deaths in those first 3 weeks, do those discrepancies persist?\n",
    "\n",
    "## Looking at CT first: which facilities drive discrepancy in counts?"
   ]
  },
  {
   "cell_type": "code",
   "execution_count": 136,
   "metadata": {},
   "outputs": [
    {
     "data": {
      "image/png": "[encoded data removed]",
      "text/plain": [
       "<Figure size 1944x288 with 5 Axes>"
      ]
     },
     "metadata": {},
     "output_type": "display_data"
    },
    {
     "data": {
      "image/png": "[encoded data removed]",
      "text/plain": [
       "<Figure size 1944x288 with 5 Axes>"
      ]
     },
     "metadata": {},
     "output_type": "display_data"
    }
   ],
   "source": [
    "# what are the most divergent rows in the most recent data, for a particular state and diff column?\n",
    "state = 'CT'\n",
    "diff_column = 'cms_ctp_resident_deaths_diff'\n",
    "abs_diff_cutoff = 15\n",
    "\n",
    "latest_state_data = cms_ctp_merged.loc[\n",
    "    (cms_ctp_merged.ctp_state == state) &\n",
    "    (cms_ctp_merged.ctp_cms_week == LATEST_DATE)]\n",
    "\n",
    "# throw out any CMS IDs that occur more than once (questionable matching)\n",
    "dupes = latest_state_data.cms_federal_provider_number.duplicated(keep=False)\n",
    "latest_state_data = latest_state_data[~dupes]\n",
    "\n",
    "abs_column = diff_column + '_abs'\n",
    "sorted_data = latest_state_data.loc[\n",
    "  latest_state_data[abs_column] > abs_diff_cutoff].sort_values(by=[diff_column]).reset_index()\n",
    "highest_ctp = list(sorted_data[:5].ctp_facility)\n",
    "lowest_ctp = list(sorted_data[-5:].ctp_facility)\n",
    "\n",
    "fig, axes = plt.subplots(1, 5, figsize=(27, 4))\n",
    "for i, facility_name in enumerate(highest_ctp):\n",
    "    plot_facility_over_time(state, facility_name, ax=axes[i])\n",
    "\n",
    "fig, axes = plt.subplots(1, 5, figsize=(27, 4))\n",
    "for i, facility_name in enumerate(lowest_ctp):\n",
    "    plot_facility_over_time(state, facility_name, ax=axes[i])"
   ]
  },
  {
   "cell_type": "markdown",
   "metadata": {},
   "source": [
    "## AR: which facilities drive discrepancy in counts?"
   ]
  },
  {
   "cell_type": "code",
   "execution_count": 137,
   "metadata": {},
   "outputs": [
    {
     "data": {
      "image/png": "[encoded data removed]",
      "text/plain": [
       "<Figure size 1944x288 with 5 Axes>"
      ]
     },
     "metadata": {},
     "output_type": "display_data"
    },
    {
     "data": {
      "image/png": "[encoded data removed]",
      "text/plain": [
       "<Figure size 1944x288 with 5 Axes>"
      ]
     },
     "metadata": {},
     "output_type": "display_data"
    }
   ],
   "source": [
    "# what are the most divergent rows in the most recent data, for a particular state and diff column?\n",
    "state = 'AR'\n",
    "diff_column = 'cms_ctp_resident_deaths_diff'\n",
    "abs_diff_cutoff = 15\n",
    "\n",
    "latest_state_data = cms_ctp_merged.loc[\n",
    "    (cms_ctp_merged.ctp_state == state) &\n",
    "    (cms_ctp_merged.ctp_cms_week == LATEST_DATE)]\n",
    "\n",
    "# throw out any CMS IDs that occur more than once (questionable matching)\n",
    "dupes = latest_state_data.cms_federal_provider_number.duplicated(keep=False)\n",
    "latest_state_data = latest_state_data[~dupes]\n",
    "\n",
    "abs_column = diff_column + '_abs'\n",
    "sorted_data = latest_state_data.loc[\n",
    "  latest_state_data[abs_column] > abs_diff_cutoff].sort_values(by=[diff_column]).reset_index()\n",
    "highest_ctp = list(sorted_data[:5].ctp_facility)\n",
    "lowest_ctp = list(sorted_data[-5:].ctp_facility)\n",
    "\n",
    "fig, axes = plt.subplots(1, 5, figsize=(27, 4))\n",
    "for i, facility_name in enumerate(highest_ctp):\n",
    "    plot_facility_over_time(state, facility_name, ax=axes[i])\n",
    "\n",
    "fig, axes = plt.subplots(1, 5, figsize=(27, 4))\n",
    "for i, facility_name in enumerate(lowest_ctp):\n",
    "    plot_facility_over_time(state, facility_name, ax=axes[i])"
   ]
  },
  {
   "cell_type": "code",
   "execution_count": 142,
   "metadata": {},
   "outputs": [
    {
     "data": {
      "text/plain": [
       "(314, 58)"
      ]
     },
     "execution_count": 142,
     "metadata": {},
     "output_type": "execute_result"
    }
   ],
   "source": [
    "latest_state_data_outer = cms_ctp_merged_outer.loc[\n",
    "    (cms_ctp_merged_outer.ctp_state == 'AR') &\n",
    "    ((cms_ctp_merged_outer.ctp_cms_week == LATEST_DATE) | (cms_ctp_merged_outer.cms_week == LATEST_DATE))]\n",
    "latest_state_data_outer.shape"
   ]
  },
  {
   "cell_type": "code",
   "execution_count": 139,
   "metadata": {},
   "outputs": [
    {
     "data": {
      "text/plain": [
       "Nursing Home     220\n",
       "Uncategorized     94\n",
       "Name: ctp_ctp_facility_type, dtype: int64"
      ]
     },
     "execution_count": 139,
     "metadata": {},
     "output_type": "execute_result"
    }
   ],
   "source": [
    "latest_state_data_outer.ctp_ctp_facility_type.value_counts()"
   ]
  },
  {
   "cell_type": "code",
   "execution_count": 140,
   "metadata": {},
   "outputs": [
    {
     "data": {
      "text/plain": [
       "1763.0"
      ]
     },
     "execution_count": 140,
     "metadata": {},
     "output_type": "execute_result"
    }
   ],
   "source": [
    "latest_state_data.ctp_resident_total_deaths.sum()"
   ]
  },
  {
   "cell_type": "code",
   "execution_count": 141,
   "metadata": {},
   "outputs": [
    {
     "data": {
      "text/plain": [
       "1886.0"
      ]
     },
     "execution_count": 141,
     "metadata": {},
     "output_type": "execute_result"
    }
   ],
   "source": [
    "latest_state_data_outer.ctp_resident_total_deaths.sum()"
   ]
  },
  {
   "cell_type": "code",
   "execution_count": 143,
   "metadata": {},
   "outputs": [
    {
     "data": {
      "text/plain": [
       "1886.0"
      ]
     },
     "execution_count": 143,
     "metadata": {},
     "output_type": "execute_result"
    }
   ],
   "source": [
    "# in CTP data: total reported resident deaths\n",
    "ctp_df.loc[\n",
    "    (ctp_df.ctp_state == 'AR') &\n",
    "    (ctp_df.ctp_cms_week == LATEST_DATE)\n",
    "].ctp_resident_total_deaths.sum()"
   ]
  },
  {
   "cell_type": "code",
   "execution_count": 144,
   "metadata": {},
   "outputs": [
    {
     "data": {
      "text/plain": [
       "1808.0"
      ]
     },
     "execution_count": 144,
     "metadata": {},
     "output_type": "execute_result"
    }
   ],
   "source": [
    "# in CTP data: resident deaths in NH vs uncategorized\n",
    "ctp_df.loc[\n",
    "    (ctp_df.ctp_state == 'AR') &\n",
    "    (ctp_df.ctp_cms_week == LATEST_DATE) &\n",
    "    (ctp_df.ctp_ctp_facility_type == 'Nursing Home')\n",
    "].ctp_resident_total_deaths.sum()"
   ]
  },
  {
   "cell_type": "code",
   "execution_count": 145,
   "metadata": {},
   "outputs": [
    {
     "data": {
      "text/plain": [
       "78.0"
      ]
     },
     "execution_count": 145,
     "metadata": {},
     "output_type": "execute_result"
    }
   ],
   "source": [
    "ctp_df.loc[\n",
    "    (ctp_df.ctp_state == 'AR') &\n",
    "    (ctp_df.ctp_cms_week == LATEST_DATE) &\n",
    "    (ctp_df.ctp_ctp_facility_type == 'Uncategorized')\n",
    "].ctp_resident_total_deaths.sum()"
   ]
  },
  {
   "cell_type": "markdown",
   "metadata": {},
   "source": [
    "## What facilities did CMS report that states did not? From those, how many cases or deaths are not included in what the state reported? We think this is based on how they report based on outbreak definitions. Spot check states to check: IA, KS, MN, NJ"
   ]
  },
  {
   "cell_type": "code",
   "execution_count": 146,
   "metadata": {
    "scrolled": true
   },
   "outputs": [
    {
     "data": {
      "text/plain": [
       "{'CRESTRIDGE CARE CENTER',\n",
       " 'CRYSTAL HEIGHTS CARE CENTER',\n",
       " 'PEARL VALLEY REHABILITATION AND NURSING AT SUTHERL',\n",
       " 'SOUTHFIELD WELLNESS COMMUNITY',\n",
       " 'TRINITY CENTER AT LUTHER PARK'}"
      ]
     },
     "execution_count": 146,
     "metadata": {},
     "output_type": "execute_result"
    }
   ],
   "source": [
    "# in the outer merge, where is CMS populated that CTP isn't? check IA first\n",
    "\n",
    "set(cms_ctp_merged_outer.loc[\n",
    "    (cms_ctp_merged_outer.cms_provider_state == 'IA') &\n",
    "    (cms_ctp_merged_outer.cms_week == LATEST_DATE) &\n",
    "    (pd.isnull(cms_ctp_merged_outer.ctp_cms_week))].sort_values(\n",
    "    'cms_resident_total_cases', ascending=False).head(5).cms_provider_name)"
   ]
  },
  {
   "cell_type": "code",
   "execution_count": 147,
   "metadata": {},
   "outputs": [
    {
     "name": "stdout",
     "output_type": "stream",
     "text": [
      "IA: ['TRINITY CENTER AT LUTHER PARK', 'SOUTHFIELD WELLNESS COMMUNITY', 'LIVING CENTER WEST', 'WESTBROOK ACRES', 'CRESTRIDGE CARE CENTER']\n",
      "KS: ['BONNER SPRINGS NURSING & REHAB CENTER', 'HALSTEAD HEALTH AND REHABILITATION CENTER', 'CATHOLIC CARE CENTER, INC', 'SANDPIPER HEALTHCARE & REHABILITATION CENTER LLC', 'GOVE COUNTY MEDICAL CENTER LTCU']\n",
      "MN: ['SOUTHVIEW ACRES HEALTHCARE CENTER', 'NORTH RIDGE HEALTH AND REHAB', 'INTERLUDE RESTORATIVE SUITES UNITY', 'LYNGBLOMSTEN CARE CENTER', 'CAMILIA ROSE CARE CENTER LLC']\n",
      "NJ: ['ARISTACARE AT DELAIRE', 'N J VETERANS MEM HOME PARAMUS', 'OAKLAND REHABILITATION AND HEALTHCARE  CENTER', 'SEACREST VILLAGE', 'PARK CRESCENT HEALTHCARE & REHABILITATION CENTER']\n"
     ]
    }
   ],
   "source": [
    "for state in ['IA', 'KS', 'MN', 'NJ']:\n",
    "    print('%s: %s' % (state, list(cms_ctp_merged_outer.loc[\n",
    "        (cms_ctp_merged_outer.cms_provider_state == state) &\n",
    "        (cms_ctp_merged_outer.cms_week == LATEST_DATE) &\n",
    "        (pd.isnull(cms_ctp_merged_outer.ctp_cms_week))].sort_values(\n",
    "        'cms_residents_total_covid_19_deaths', ascending=False).head(5).cms_provider_name)))"
   ]
  },
  {
   "cell_type": "code",
   "execution_count": 148,
   "metadata": {},
   "outputs": [
    {
     "name": "stdout",
     "output_type": "stream",
     "text": [
      "IA: 247 deaths, 1718 cases\n",
      "KS: 619 deaths, 3939 cases\n",
      "MN: 2341 deaths, 12338 cases\n",
      "NJ: 1330 deaths, 6032 cases\n"
     ]
    }
   ],
   "source": [
    "# unmapped cases and deaths\n",
    "for state in ['IA', 'KS', 'MN', 'NJ']:\n",
    "    print('%s: %d deaths, %d cases' % (\n",
    "        state,\n",
    "        cms_ctp_merged_outer.loc[\n",
    "            (cms_ctp_merged_outer.cms_provider_state == state) &\n",
    "            (cms_ctp_merged_outer.cms_week == LATEST_DATE) &\n",
    "            (pd.isnull(cms_ctp_merged_outer.ctp_cms_week))].cms_residents_total_covid_19_deaths.sum(),\n",
    "        cms_ctp_merged_outer.loc[\n",
    "            (cms_ctp_merged_outer.cms_provider_state == state) &\n",
    "            (cms_ctp_merged_outer.cms_week == LATEST_DATE) &\n",
    "            (pd.isnull(cms_ctp_merged_outer.ctp_cms_week))].cms_resident_total_cases.sum()))"
   ]
  },
  {
   "cell_type": "markdown",
   "metadata": {},
   "source": [
    "# Summary stats\n",
    "\n",
    "How many individual facilities had a COVID case?\n",
    "How many individual facilities had a COVID death?\n",
    "How many individual CMS facilities had a COVID case?\n",
    "How many individual CMS facilities had a COVID death?\n",
    "How many states do not have facility level data?\n",
    "If filled in with CMS data, what is the total number of cases and deaths in the US?\n",
    "How many states report higher CMS NH data than the state reported information?"
   ]
  },
  {
   "cell_type": "code",
   "execution_count": 149,
   "metadata": {},
   "outputs": [
    {
     "data": {
      "text/plain": [
       "21201"
      ]
     },
     "execution_count": 149,
     "metadata": {},
     "output_type": "execute_result"
    }
   ],
   "source": [
    "# how many CTP facilities had a covid case?\n",
    "len(set(cms_ctp_merged_outer.loc[\n",
    "    (cms_ctp_merged_outer.ctp_resident_total_cases > 0) |\n",
    "    (cms_ctp_merged_outer.ctp_staff_total_cases > 0) |\n",
    "    (cms_ctp_merged_outer.ctp_resstaff_total_cases > 0)\n",
    "].ctp_ctp_id))"
   ]
  },
  {
   "cell_type": "code",
   "execution_count": 150,
   "metadata": {},
   "outputs": [
    {
     "data": {
      "text/plain": [
       "16430"
      ]
     },
     "execution_count": 150,
     "metadata": {},
     "output_type": "execute_result"
    }
   ],
   "source": [
    "# how many CTP facilities had a covid death?\n",
    "len(set(cms_ctp_merged_outer.loc[\n",
    "    (cms_ctp_merged_outer.ctp_resident_total_deaths > 0) |\n",
    "    (cms_ctp_merged_outer.ctp_staff_total_deaths > 0) |\n",
    "    (cms_ctp_merged_outer.ctp_resstaff_total_deaths > 0)\n",
    "].ctp_ctp_id))"
   ]
  },
  {
   "cell_type": "code",
   "execution_count": 151,
   "metadata": {},
   "outputs": [
    {
     "data": {
      "text/plain": [
       "15220"
      ]
     },
     "execution_count": 151,
     "metadata": {},
     "output_type": "execute_result"
    }
   ],
   "source": [
    "# How many individual CMS facilities had a COVID case?\n",
    "len(set(cms_ctp_merged_outer.loc[\n",
    "    (cms_ctp_merged_outer.cms_resident_total_cases > 0) |\n",
    "    (cms_ctp_merged_outer.cms_staff_total_cases > 0)\n",
    "].cms_federal_provider_number))"
   ]
  },
  {
   "cell_type": "code",
   "execution_count": 152,
   "metadata": {},
   "outputs": [
    {
     "data": {
      "text/plain": [
       "12623"
      ]
     },
     "execution_count": 152,
     "metadata": {},
     "output_type": "execute_result"
    }
   ],
   "source": [
    "# How many individual CMS facilities had a COVID death?\n",
    "len(set(cms_ctp_merged_outer.loc[\n",
    "    (cms_ctp_merged_outer.cms_residents_total_covid_19_deaths > 0) |\n",
    "    (cms_ctp_merged_outer.cms_staff_total_covid_19_deaths > 0)\n",
    "].cms_federal_provider_number))"
   ]
  },
  {
   "cell_type": "code",
   "execution_count": 153,
   "metadata": {},
   "outputs": [
    {
     "data": {
      "text/plain": [
       "43"
      ]
     },
     "execution_count": 153,
     "metadata": {},
     "output_type": "execute_result"
    }
   ],
   "source": [
    "# how many states have facility-level data? tells us how many don't\n",
    "len(set(cms_ctp_merged_outer.loc[~pd.isnull(cms_ctp_merged_outer.ctp_ctp_id)].ctp_state))"
   ]
  }
 ],
 "metadata": {
  "kernelspec": {
   "display_name": "Python 3",
   "language": "python",
   "name": "python3"
  },
  "language_info": {
   "codemirror_mode": {
    "name": "ipython",
    "version": 3
   },
   "file_extension": ".py",
   "mimetype": "text/x-python",
   "name": "python",
   "nbconvert_exporter": "python",
   "pygments_lexer": "ipython3",
   "version": "3.6.7"
  }
 },
 "nbformat": 4,
 "nbformat_minor": 2
}
